{
 "cells": [
  {
   "cell_type": "code",
   "execution_count": null,
   "id": "5cc8b1ca-5d39-42f1-84a6-00c2e4f330e8",
   "metadata": {},
   "outputs": [],
   "source": []
  },
  {
   "cell_type": "code",
   "execution_count": 3,
   "id": "4746b296-53e1-4e4d-a573-12bbc73882d1",
   "metadata": {},
   "outputs": [
    {
     "name": "stdout",
     "output_type": "stream",
     "text": [
      "\u001b[36mRemoving\u001b[0m \u001b[32mprogressbar2\u001b[0m \u001b[36mfrom\u001b[0m \u001b[37mPipfile.lock...\u001b[0m\n",
      "\u001b[32mRemoved progressbar2 from Pipfile category packages\u001b[0m\n",
      "\u001b[32m\u001b[1mUninstalling progressbar2\u001b[0m...\u001b[0m\n",
      "\u001b[36mFound existing installation: progressbar2 4.2.0\n",
      "Uninstalling progressbar2-4.2.0:\n",
      "  Successfully uninstalled progressbar2-4.2.0\n",
      "\u001b[0m\n",
      "Locking\u001b[0m \u001b[33m[packages]\u001b[0m dependencies...\u001b[0m\n",
      "\u001b[KBuilding requirements...\n",
      "\u001b[KResolving dependencies...\n",
      "\u001b[K\u001b[?25h\u001b[32m\u001b[22m✔ Success!\u001b[39m\u001b[22m\u001b[0m \n",
      "Locking\u001b[0m \u001b[33m[dev-packages]\u001b[0m dependencies...\u001b[0m\n",
      "\u001b[1mUpdated Pipfile.lock (11f0a9fe7bfcf6efbf7f81fa13128148d7a2164233e1ac6e1f35101a4dd84d45)!\u001b[0m\n",
      "\u001b[0m"
     ]
    }
   ],
   "source": [
    "!pipenv uninstall progressbar2"
   ]
  },
  {
   "cell_type": "code",
   "execution_count": null,
   "id": "4ef66d55-b71f-4eb9-a2ee-ccf08ec4c489",
   "metadata": {},
   "outputs": [],
   "source": [
    "import time\n",
    "import progressbar\n",
    "\n",
    "for i in progressbar.progressbar(range(100), redirect_stdout=True):\n",
    "    print('Some text', i)\n",
    "    time.sleep(0.1)"
   ]
  },
  {
   "cell_type": "code",
   "execution_count": 4,
   "id": "48180d58-1e08-4896-a337-59dd86a5a739",
   "metadata": {},
   "outputs": [
    {
     "name": "stdout",
     "output_type": "stream",
     "text": [
      "\u001b[32m\u001b[1mInstalling alive-progress...\u001b[0m\n",
      "\u001b[K\u001b[1mAdding\u001b[0m \u001b[32m\u001b[1malive-progress\u001b[0m \u001b[1mto Pipfile's\u001b[0m \u001b[33m\u001b[1m[packages]\u001b[0m\u001b[1m...\u001b[0m\n",
      "\u001b[K\u001b[?25h✔ Installation Succeeded\u001b[0m \n",
      "\u001b[33m\u001b[1mPipfile.lock (d84d45) out of date, updating to (b8b902)...\u001b[0m\n",
      "Locking\u001b[0m \u001b[33m[packages]\u001b[0m dependencies...\u001b[0m\n",
      "\u001b[K\u001b[KBuilding requirements...\n",
      "\u001b[KResolving dependencies...\n",
      "\u001b[K\u001b[?25h\u001b[32m\u001b[22m✔ Success!\u001b[39m\u001b[22m\u001b[0m \n",
      "Locking\u001b[0m \u001b[33m[dev-packages]\u001b[0m dependencies...\u001b[0m\n",
      "\u001b[1mUpdated Pipfile.lock (c49c2b307153841e3adbe0ddc402a8f3e177146e47c98dd811ff62054fb8b902)!\u001b[0m\n",
      "\u001b[1mInstalling dependencies from Pipfile.lock (b8b902)...\u001b[0m\n",
      "\u001b[0m"
     ]
    }
   ],
   "source": [
    "! pipenv install alive-progress"
   ]
  },
  {
   "cell_type": "code",
   "execution_count": 9,
   "id": "3ed4225a-82a2-46b3-82be-7bf5a1928c41",
   "metadata": {},
   "outputs": [
    {
     "name": "stdout",
     "output_type": "stream",
     "text": [
      "on 7: fail \"H\", retry later\n",
      "on 10: fail \"K\", retry later\n",
      "on 22: fail \"W\", retry later\n",
      "on 25: fail \"Z\", retry later\n",
      "Alphabet |████████████████████████████████████████| 26/26 [100%] in 7.8s (3.33/s) \n"
     ]
    }
   ],
   "source": [
    "from alive_progress import alive_bar\n",
    "import time\n",
    "\n",
    "letters = [chr(ord('A') + x) for x in range(26)]\n",
    "with alive_bar(26, dual_line=True, title='Alphabet') as bar:\n",
    "    for c in letters:\n",
    "        bar.text = f'-> Teaching the letter: {c}, please wait...'\n",
    "        if c in 'HKWZ':\n",
    "            print(f'fail \"{c}\", retry later')\n",
    "        time.sleep(0.3)\n",
    "        bar()\n",
    "\n",
    "\n"
   ]
  },
  {
   "cell_type": "code",
   "execution_count": null,
   "id": "af160c41-304a-422c-91e8-e7a93a792b42",
   "metadata": {},
   "outputs": [],
   "source": []
  },
  {
   "cell_type": "code",
   "execution_count": 10,
   "id": "8d5e299b-cd63-48a6-a37f-e413128eb23d",
   "metadata": {},
   "outputs": [
    {
     "name": "stdout",
     "output_type": "stream",
     "text": [
      "Download 0 |████████████████████████████████████████| 100/100 [100%] in 2.0s (49.84/s) \n",
      "Download 1 |████████████████████████████████████████| 100/100 [100%] in 2.0s (49.85/s) \n",
      "Download 2 |████████████████████████████████████████| 100/100 [100%] in 2.0s (49.83/s) \n",
      "Download 3 |████████████████████████████████████████| 100/100 [100%] in 2.0s (49.84/s) \n",
      "Download 4 |████████████████████████████████████████| 100/100 [100%] in 2.0s (49.84/s) \n",
      "Download 5 |████████████████████████████████████████| 100/100 [100%] in 2.0s (49.82/s) \n",
      "Download 6 |████████████████████████████████████████| 100/100 [100%] in 2.0s (49.84/s) \n",
      "Download 7 |████████████████████████████████████████| 100/100 [100%] in 2.0s (49.85/s) \n",
      "Download 8 |████████████████████████████████████████| 100/100 [100%] in 2.0s (49.84/s) \n",
      "Download 9 |████████████████████████████████████████| 100/100 [100%] in 2.0s (49.84/s) \n"
     ]
    }
   ],
   "source": [
    "for i in range(10):\n",
    "    with alive_bar(100, ctrl_c=False, title=f'Download {i}') as bar:\n",
    "        for i in range(100):\n",
    "            time.sleep(0.02)\n",
    "            bar()"
   ]
  },
  {
   "cell_type": "code",
   "execution_count": 12,
   "id": "1c8b1de4-ca65-4d77-bcf4-a601c0653785",
   "metadata": {},
   "outputs": [
    {
     "name": "stdout",
     "output_type": "stream",
     "text": [
      "on 300: Cool!                                                                                                           \n",
      "on 600: Cool!                                                                                                           \n",
      "on 900: Cool!                                                                                                           \n",
      "|████████████████████████████████████████| 1000/1000 [100%] in 5.1s (197.42/s)                                          \n"
     ]
    }
   ],
   "source": [
    "with alive_bar(1000, force_tty=True) as bar:\n",
    "    for i in range(1000):\n",
    "        time.sleep(0.005)\n",
    "        if i and i%300==0:\n",
    "            print('Cool!')\n",
    "        bar()\n",
    "            \n"
   ]
  }
 ],
 "metadata": {
  "kernelspec": {
   "display_name": "Python 3 (ipykernel)",
   "language": "python",
   "name": "python3"
  },
  "language_info": {
   "codemirror_mode": {
    "name": "ipython",
    "version": 3
   },
   "file_extension": ".py",
   "mimetype": "text/x-python",
   "name": "python",
   "nbconvert_exporter": "python",
   "pygments_lexer": "ipython3",
   "version": "3.10.6"
  }
 },
 "nbformat": 4,
 "nbformat_minor": 5
}

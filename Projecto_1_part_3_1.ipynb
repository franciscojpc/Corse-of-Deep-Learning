{
 "cells": [
  {
   "cell_type": "code",
   "execution_count": 1,
   "id": "3f5d6e43-1f44-4208-aaf2-aac49e7abb09",
   "metadata": {},
   "outputs": [],
   "source": [
    "import numpy as np\n",
    "import matplotlib.pyplot as plt\n",
    "%matplotlib inline\n",
    "# Solamente para usuarios de Jupyter Themes\n",
    "from jupyterthemes import jtplot\n",
    "jtplot.style(grid=False)"
   ]
  },
  {
   "cell_type": "code",
   "execution_count": 2,
   "id": "8190a331-4c92-443e-8c52-211437f3a67d",
   "metadata": {},
   "outputs": [],
   "source": [
    "\n",
    "from get_images import get_images"
   ]
  },
  {
   "cell_type": "code",
   "execution_count": 3,
   "id": "1728cd2d-f8c9-4360-b183-a7268b78a6b7",
   "metadata": {},
   "outputs": [
    {
     "data": {
      "text/plain": [
       "(10000, 28, 28)"
      ]
     },
     "execution_count": 3,
     "metadata": {},
     "output_type": "execute_result"
    }
   ],
   "source": [
    "# MNIST path\n",
    "mnist_path = './mnist_raw/'\n",
    "\n",
    "x_train_num, y_train_num, x_test_num, y_test_num = get_images(mnist_path)\n",
    "x_test_num.shape\n"
   ]
  },
  {
   "cell_type": "code",
   "execution_count": 4,
   "id": "cfa8ad90-cbbd-4d22-a615-38102ef56875",
   "metadata": {},
   "outputs": [
    {
     "name": "stderr",
     "output_type": "stream",
     "text": [
      "/tmp/ipykernel_13351/1748610980.py:4: DeprecationWarning: `np.float` is a deprecated alias for the builtin `float`. To silence this warning, use `float` by itself. Doing this will not modify any behavior and is safe. If you specifically wanted the numpy scalar type, use `np.float64` here.\n",
      "Deprecated in NumPy 1.20; for more details and guidance: https://numpy.org/devdocs/release/1.20.0-notes.html#deprecations\n",
      "  x_val = x_train_num[50000:].reshape(10000, -1).astype(np.float)/255\n",
      "/tmp/ipykernel_13351/1748610980.py:7: DeprecationWarning: `np.float` is a deprecated alias for the builtin `float`. To silence this warning, use `float` by itself. Doing this will not modify any behavior and is safe. If you specifically wanted the numpy scalar type, use `np.float64` here.\n",
      "Deprecated in NumPy 1.20; for more details and guidance: https://numpy.org/devdocs/release/1.20.0-notes.html#deprecations\n",
      "  x_test = x_test_num.copy().reshape(10000, -1).astype(np.float)/255\n"
     ]
    }
   ],
   "source": [
    "\n",
    "x_train = x_train_num[:50000].reshape(50000, -1).astype(np.float32)/255\n",
    "y_train = y_train_num[:50000].reshape(50000, 1)\n",
    "\n",
    "x_val = x_train_num[50000:].reshape(10000, -1).astype(np.float)/255\n",
    "y_val = y_train_num[50000:].reshape(10000, 1)\n",
    "\n",
    "x_test = x_test_num.copy().reshape(10000, -1).astype(np.float)/255\n",
    "y_test = y_test_num.copy().reshape(10000, 1)"
   ]
  },
  {
   "cell_type": "code",
   "execution_count": 5,
   "id": "7cf051a1-24a9-4314-9e83-efcebdaa06e7",
   "metadata": {},
   "outputs": [
    {
     "name": "stdout",
     "output_type": "stream",
     "text": [
      "(50000, 784)\n",
      "(50000, 1)\n",
      "(10000, 784)\n",
      "(10000, 1)\n",
      "(10000, 784)\n",
      "(10000, 1)\n"
     ]
    }
   ],
   "source": [
    "print(x_train.shape) #shape (50000, 784)\n",
    "print(y_train.shape) #shape (50000, 1)\n",
    "\n",
    "print(x_val.shape)\n",
    "print(y_val.shape)\n",
    "\n",
    "print(x_test.shape)\n",
    "print(y_test.shape)"
   ]
  },
  {
   "cell_type": "code",
   "execution_count": 6,
   "id": "805d2818-7b58-4cf5-97ca-fcd4ac18219f",
   "metadata": {},
   "outputs": [],
   "source": [
    "def plot_number(image):\n",
    "    plt.imshow(image.squeeze(), cmap=plt.get_cmap('gray'))\n",
    "    plt.axis('off')\n",
    "    plt.show()"
   ]
  },
  {
   "cell_type": "code",
   "execution_count": 7,
   "id": "6881069d-5eae-4a7a-a59c-360c7ca53b52",
   "metadata": {},
   "outputs": [
    {
     "name": "stdout",
     "output_type": "stream",
     "text": [
      "La imagen muestreada representa un: 8\n"
     ]
    },
    {
     "data": {
      "image/png": "[encoded data removed]",
      "text/plain": [
       "<Figure size 640x560 with 1 Axes>"
      ]
     },
     "metadata": {},
     "output_type": "display_data"
    }
   ],
   "source": [
    "rnd_idx = np.random.randint(len(y_test))\n",
    "print(f'La imagen muestreada representa un: {y_test[rnd_idx][0]}')\n",
    "plot_number(x_test_num[rnd_idx])"
   ]
  },
  {
   "cell_type": "code",
   "execution_count": 8,
   "id": "db3754ae-8022-4706-bb27-a3d1cd045faf",
   "metadata": {},
   "outputs": [
    {
     "data": {
      "text/plain": [
       "50000"
      ]
     },
     "execution_count": 8,
     "metadata": {},
     "output_type": "execute_result"
    }
   ],
   "source": [
    "x_train.shape[0]\n"
   ]
  },
  {
   "cell_type": "code",
   "execution_count": 9,
   "id": "c7a9d9fc-371d-4345-a332-4ff7f6f0a211",
   "metadata": {},
   "outputs": [],
   "source": [
    "def create_minibatches(mb_size, x, y, shuffle = True):\n",
    "    '''\n",
    "    x  #muestras, 784\n",
    "    y #muestras, 1\n",
    "    '''\n",
    "    assert x.shape[0] == y.shape[0], 'Error en cantidad de muestras'\n",
    "    total_data = x.shape[0]\n",
    "    if shuffle: \n",
    "        idxs = np.arange(total_data)\n",
    "        np.random.shuffle(idxs)\n",
    "        x = x[idxs]\n",
    "        y = y[idxs]\n",
    "        \n",
    "    return ((x[i:i+mb_size], y[i:i+mb_size]) for i in range(0, total_data, mb_size))"
   ]
  },
  {
   "cell_type": "markdown",
   "id": "a9fc36e0-41bf-4fb2-8aa6-853b9c945bc0",
   "metadata": {},
   "source": [
    "Init parameters"
   ]
  },
  {
   "cell_type": "code",
   "execution_count": 10,
   "id": "b7145c04-d946-4a9f-b3a5-73d73fff661c",
   "metadata": {},
   "outputs": [],
   "source": [
    "def init_parameters(input_size: int, neurons: list) -> dict:\n",
    "    '''\n",
    "    input_size -> elemntos de entrada, 784,\n",
    "    neurons -> list [200, 10] cib cabtudad de neuronas\n",
    "    \n",
    "    '''\n",
    "    W1 = np.random.randn(neurons[0], input_size) * 0.001\n",
    "    b1 = np.zeros((neurons[0], 1))\n",
    "    \n",
    "    W2 = np.random.randn(neurons[1], neurons[0]) * 0.001\n",
    "    b2 = np.zeros((neurons[1], 1))\n",
    "    \n",
    "    return {'W1': W1, 'b1': b1, 'W2': W2, 'b2':b2}"
   ]
  },
  {
   "cell_type": "code",
   "execution_count": 71,
   "id": "110e0837-68cf-4ac9-af4e-a4330b02cbc4",
   "metadata": {},
   "outputs": [
    {
     "name": "stdout",
     "output_type": "stream",
     "text": [
      "(200, 784)\n",
      "(10, 200)\n",
      "(10, 1)\n"
     ]
    }
   ],
   "source": [
    "parameters = init_parameters(28*28, [200, 10])\n",
    "print(parameters['W1'].shape)\n",
    "print(parameters['W2'].shape)\n",
    "print(parameters['b2'].shape)"
   ]
  },
  {
   "cell_type": "code",
   "execution_count": 72,
   "id": "29e21a64-dc1d-4397-abec-7e1ed0b5e30a",
   "metadata": {},
   "outputs": [],
   "source": [
    "def relu(x):\n",
    "    return np.maximum(0, x)"
   ]
  },
  {
   "cell_type": "code",
   "execution_count": 73,
   "id": "fc988b16-cdaa-4e92-89fb-563db20d130c",
   "metadata": {},
   "outputs": [],
   "source": [
    "def scores(x, parameters, activation_fcn):\n",
    "    '''\n",
    "    x tiene la forma (#pixeles, num samples)\n",
    "    '''\n",
    "    z1 = parameters['W1'] @ x + parameters['b1']\n",
    "    a1 = activation_fcn(z1) # devuel fcn. de activa.\n",
    "    z2 = parameters['W2'] @ a1 + parameters['b2']\n",
    "    \n",
    "    return z2, z1, a1"
   ]
  },
  {
   "cell_type": "code",
   "execution_count": 74,
   "id": "c56de92c-d411-4aa3-97f4-c4eda7c9a407",
   "metadata": {},
   "outputs": [],
   "source": [
    "z2, z1, a1 = scores(x_train[:64].T, parameters, relu) "
   ]
  },
  {
   "cell_type": "code",
   "execution_count": 75,
   "id": "a29b961e-a8d4-4341-a545-9775b08e0cd5",
   "metadata": {},
   "outputs": [
    {
     "data": {
      "text/plain": [
       "(10, 64)"
      ]
     },
     "execution_count": 75,
     "metadata": {},
     "output_type": "execute_result"
    }
   ],
   "source": [
    "z2.shape"
   ]
  },
  {
   "cell_type": "code",
   "execution_count": 76,
   "id": "940791b6-f903-49a0-aa73-473cbe07be6d",
   "metadata": {},
   "outputs": [],
   "source": [
    "def softmax(x):\n",
    "    exp_scores = np.exp(x)\n",
    "    sum_exp_scores = np.sum(exp_scores, axis=0)\n",
    "    probs = exp_scores/sum_exp_scores\n",
    "    return probs"
   ]
  },
  {
   "cell_type": "code",
   "execution_count": 77,
   "id": "0930aa2d-50f9-4bdf-9b49-348323d4557a",
   "metadata": {},
   "outputs": [],
   "source": [
    "def x_entropy(scores, y, batch_size=64):\n",
    "    probs = softmax(scores)\n",
    "    y_hat = probs[y.squeeze(), np.arange(batch_size)]\n",
    "    cost = np.sum(-np.log(y_hat)) / batch_size\n",
    "    \n",
    "    return probs, cost"
   ]
  },
  {
   "cell_type": "code",
   "execution_count": 78,
   "id": "b95677fc-62d0-474d-962b-73b1ae601ba9",
   "metadata": {},
   "outputs": [],
   "source": [
    "def backward(probs, x, y, z1, a1, scores, parameters, batch_size=64):\n",
    "    grads = {}\n",
    "    probs[y.squeeze(), np.arange(batch_size)] -= 1 # y-hat - y\n",
    "    dz2 = probs.copy()\n",
    "    \n",
    "    dW2 = dz2 @ a1.T / batch_size\n",
    "    db2 = np.sum(dz2, axis =1, keepdims=True) / batch_size\n",
    "    da1 = parameters['W2'].T @ dz2\n",
    "    \n",
    "    dz1 = da1.copy()\n",
    "    dz1[z1 <= 0 ] =0\n",
    "    \n",
    "    dW1 = dz1 @ x \n",
    "    db1 = np.sum(dz1, axis=1, keepdims=True) \n",
    "    \n",
    "    assert parameters['W1'].shape == dW1.shape, 'W1 no igual forma'\n",
    "    assert parameters['W2'].shape == dW2.shape, 'W2 no igual forma'\n",
    "    assert parameters['b1'].shape == db1.shape, 'b1 no igual forma'\n",
    "    assert parameters['b2'].shape == db2.shape, 'b2 no igual forma'\n",
    "    \n",
    "    grads = {'w1':dW1,  'b1':db1, 'W2':dW2, 'b2':db2}\n",
    "    \n",
    "    return grads\n",
    "    "
   ]
  },
  {
   "cell_type": "code",
   "execution_count": 79,
   "id": "5b1955fa-24ab-4bb0-8839-a0463886ec5f",
   "metadata": {},
   "outputs": [],
   "source": [
    "y_hat, cost = x_entropy(z2, y_train[:64])"
   ]
  },
  {
   "cell_type": "code",
   "execution_count": 80,
   "id": "143183d2-cf55-4b2d-a7ab-6b8ee2f15254",
   "metadata": {},
   "outputs": [],
   "source": [
    "def accuracy(x_data, y_data, mb_size=64):\n",
    "    correct = 0\n",
    "    total = 0\n",
    "    \n",
    "    for i, (x, y) in enumerate(create_minibatches(mb_size, x_data, y_data)):\n",
    "        lenght = len(x)\n",
    "        z2, z1, a1 = scores(x.T, parameters, relu)\n",
    "        y_hat, cost = x_entropy(z2, y, batch_size=lenght)\n",
    "        \n",
    "        correct +=   np.sum(np.argmax(y_hat, axis=0) == y.squeeze())\n",
    "        total += y_hat.shape[1]\n",
    "    return correct/total"
   ]
  },
  {
   "cell_type": "code",
   "execution_count": 81,
   "id": "a3cb887a-bd74-4539-83b4-410e327c3905",
   "metadata": {},
   "outputs": [],
   "source": [
    "def train(epochs, parameters, mb_size=64, learning_rate=1e-3):\n",
    "    for epoch in range(epochs):\n",
    "        for i, (x, y) in enumerate(create_minibatches(mb_size, x_train, y_train)):\n",
    "            lenght = len(x)\n",
    "            z2, z1, a1 = scores(x.T, parameters, relu)\n",
    "            y_hat, cost = x_entropy(z2, y, batch_size=lenght)\n",
    "            grads = backward(y_hat, x, y, z1, a1, z2, parameters, batch_size=lenght)\n",
    "            \n",
    "            parameters['W1'] -= learning_rate*grads['w1']\n",
    "            parameters['b1'] -= learning_rate*grads['b1']\n",
    "            parameters['W2'] -= learning_rate*grads['W2']\n",
    "            parameters['b2'] -= learning_rate*grads['b2']\n",
    "            \n",
    "        print(f'El costo es: {cost}, y accuracy: {accuracy(x_val, y_val, mb_size)}')        \n",
    "    return parameters\n",
    "    "
   ]
  },
  {
   "cell_type": "code",
   "execution_count": 82,
   "id": "0f89ce77-d491-4e2a-8f67-09760e1aa1f9",
   "metadata": {},
   "outputs": [
    {
     "name": "stdout",
     "output_type": "stream",
     "text": [
      "El costo es: 0.521179898573355, y accuracy: 0.8628\n",
      "El costo es: 0.36588087761861454, y accuracy: 0.9043\n",
      "El costo es: 0.26600978940505604, y accuracy: 0.9173\n",
      "El costo es: 0.25462169722356215, y accuracy: 0.9225\n",
      "El costo es: 0.2979129056715169, y accuracy: 0.9278\n",
      "El costo es: 0.30893722973935456, y accuracy: 0.9341\n",
      "El costo es: 0.2418333381477519, y accuracy: 0.9397\n",
      "El costo es: 0.21139272161657927, y accuracy: 0.9456\n",
      "El costo es: 0.13628754122081135, y accuracy: 0.9491\n",
      "El costo es: 0.18915406322167155, y accuracy: 0.9531\n",
      "El costo es: 0.1274807063614062, y accuracy: 0.955\n",
      "El costo es: 0.15150952551774485, y accuracy: 0.9568\n",
      "El costo es: 0.1540528943580299, y accuracy: 0.9585\n",
      "El costo es: 0.15378771524562332, y accuracy: 0.9588\n",
      "El costo es: 0.15925515278924657, y accuracy: 0.9608\n",
      "El costo es: 0.20047932471911425, y accuracy: 0.9615\n",
      "El costo es: 0.1493208243808935, y accuracy: 0.9639\n",
      "El costo es: 0.18598670796558464, y accuracy: 0.9643\n",
      "El costo es: 0.09412290078345656, y accuracy: 0.9658\n",
      "El costo es: 0.13421220058887934, y accuracy: 0.9664\n"
     ]
    }
   ],
   "source": [
    "mb_size = 512\n",
    "learning_rate = 1e-2\n",
    "epochs = 20\n",
    "\n",
    "parameters = train(epochs=epochs, parameters=parameters, mb_size=mb_size, learning_rate=learning_rate)\n",
    "\n"
   ]
  },
  {
   "cell_type": "code",
   "execution_count": 83,
   "id": "27ef06a0-5b96-4bb6-bdaf-f560cc9c456e",
   "metadata": {},
   "outputs": [
    {
     "data": {
      "text/plain": [
       "0.9658"
      ]
     },
     "execution_count": 83,
     "metadata": {},
     "output_type": "execute_result"
    }
   ],
   "source": [
    "accuracy(x_test, y_test, mb_size)"
   ]
  },
  {
   "cell_type": "code",
   "execution_count": 87,
   "id": "06a2ef35-eed9-4250-b99e-ebb8f3543e94",
   "metadata": {},
   "outputs": [],
   "source": [
    "def predict(x):\n",
    "    scores2, _, _ = scores(x, parameters, relu)\n",
    "    return np.argmax(scores2)"
   ]
  },
  {
   "cell_type": "code",
   "execution_count": 154,
   "id": "a1c9023f-9b47-4235-a214-4d4f26683cbd",
   "metadata": {},
   "outputs": [
    {
     "data": {
      "image/png": "[encoded data removed]",
      "text/plain": [
       "<Figure size 640x560 with 1 Axes>"
      ]
     },
     "metadata": {},
     "output_type": "display_data"
    },
    {
     "name": "stdout",
     "output_type": "stream",
     "text": [
      "El valor predicho es: 3\n"
     ]
    }
   ],
   "source": [
    "idx = np.random.randint(len(y_test))\n",
    "plot_number(x_test_num[idx])\n",
    "pred = predict(x_test[idx].reshape(-1, 1))\n",
    "print(f'El valor predicho es: {pred}')"
   ]
  },
  {
   "cell_type": "code",
   "execution_count": null,
   "id": "5fa41674-645e-4a50-976f-6f75f4f866c6",
   "metadata": {},
   "outputs": [],
   "source": []
  }
 ],
 "metadata": {
  "kernelspec": {
   "display_name": "Python 3 (ipykernel)",
   "language": "python",
   "name": "python3"
  },
  "language_info": {
   "codemirror_mode": {
    "name": "ipython",
    "version": 3
   },
   "file_extension": ".py",
   "mimetype": "text/x-python",
   "name": "python",
   "nbconvert_exporter": "python",
   "pygments_lexer": "ipython3",
   "version": "3.10.6"
  }
 },
 "nbformat": 4,
 "nbformat_minor": 5
}

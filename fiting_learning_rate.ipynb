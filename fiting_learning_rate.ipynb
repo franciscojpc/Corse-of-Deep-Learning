{
 "cells": [
  {
   "cell_type": "markdown",
   "id": "5f52536b-6b96-4c55-a3e3-0097169ec285",
   "metadata": {},
   "source": [
    "# Link de tutorial:\n",
    "https://youtu.be/1uQSpujp74o\n"
   ]
  },
  {
   "cell_type": "code",
   "execution_count": 1,
   "id": "81d5dee4-d2aa-401b-ab58-d8bccb922daf",
   "metadata": {},
   "outputs": [],
   "source": [
    "import numpy as np\n",
    "import matplotlib.pyplot as plt\n",
    "\n",
    "# PyTorch\n",
    "import torch\n",
    "import torch.nn as nn\n",
    "import torch.nn.functional as F"
   ]
  },
  {
   "cell_type": "markdown",
   "id": "e178845b-b5fb-41fc-9279-6c3bbc1da57b",
   "metadata": {},
   "source": [
    "# Importar imágenes"
   ]
  },
  {
   "cell_type": "code",
   "execution_count": 2,
   "id": "bb1c8087-ecfe-4589-9d2a-ece0853d30c3",
   "metadata": {},
   "outputs": [],
   "source": [
    "from get_images import get_images"
   ]
  },
  {
   "cell_type": "code",
   "execution_count": 3,
   "id": "b397d602-d836-4b78-97bc-a90526feb244",
   "metadata": {},
   "outputs": [],
   "source": [
    "# MNIST path\n",
    "mnist_path = './mnist_raw/'\n",
    "x_train_num, y_train_num, x_test_num, y_test_num = get_images(mnist_path)\n",
    "\n",
    "x_train = x_train_num[:50000].reshape(50000, -1).astype(np.float32)\n",
    "y_train = y_train_num[:50000].reshape(50000, 1)\n",
    "\n",
    "x_val = x_train_num[50000:].reshape(10000, -1).astype(np.float32)\n",
    "y_val = y_train_num[50000:].reshape(10000, 1)\n",
    "\n",
    "x_test = x_test_num.copy().reshape(10000, -1).astype(np.float32)\n",
    "y_test = y_test_num.copy().reshape(10000, 1)"
   ]
  },
  {
   "cell_type": "markdown",
   "id": "6584098d-5091-4618-ba8e-b1fc2af28397",
   "metadata": {},
   "source": [
    "# Normalizaf imágenes"
   ]
  },
  {
   "cell_type": "code",
   "execution_count": 4,
   "id": "3262938e-ba48-4658-9587-b126857ee411",
   "metadata": {},
   "outputs": [],
   "source": [
    "def normalise(x_mean, x_std, x_data):\n",
    "    return (x_data - x_mean) / x_std"
   ]
  },
  {
   "cell_type": "code",
   "execution_count": 5,
   "id": "aac4b45b-897d-4340-9830-23756fb323c2",
   "metadata": {},
   "outputs": [
    {
     "data": {
      "text/plain": [
       "(-3.1638146e-07, 0.99999934)"
      ]
     },
     "execution_count": 5,
     "metadata": {},
     "output_type": "execute_result"
    }
   ],
   "source": [
    "x_mean = x_train.mean()\n",
    "x_std = x_train.std()\n",
    "\n",
    "x_train = normalise(x_mean, x_std, x_train)\n",
    "x_val = normalise(x_mean, x_std, x_val)\n",
    "x_test = normalise(x_mean, x_std, x_test)\n",
    "\n",
    "x_train.mean(), x_train.std()"
   ]
  },
  {
   "cell_type": "code",
   "execution_count": 6,
   "id": "3506dff6-97c8-4bb5-bba9-d899d599e1b2",
   "metadata": {},
   "outputs": [
    {
     "data": {
      "text/plain": [
       "(10000, 784)"
      ]
     },
     "execution_count": 6,
     "metadata": {},
     "output_type": "execute_result"
    }
   ],
   "source": [
    "x_test.shape"
   ]
  },
  {
   "cell_type": "code",
   "execution_count": 7,
   "id": "b3920bfd-eb26-48a9-9b38-d47627d23b13",
   "metadata": {},
   "outputs": [
    {
     "data": {
      "text/plain": [
       "(50000, 1)"
      ]
     },
     "execution_count": 7,
     "metadata": {},
     "output_type": "execute_result"
    }
   ],
   "source": [
    "y_train.shape"
   ]
  },
  {
   "cell_type": "markdown",
   "id": "0600b02c-9c36-448b-92f1-3375c22022fd",
   "metadata": {
    "tags": []
   },
   "source": [
    "# Mostrar imágenes"
   ]
  },
  {
   "cell_type": "code",
   "execution_count": 8,
   "id": "97aab8ea-158e-4857-9e23-5ea54afde8f3",
   "metadata": {},
   "outputs": [],
   "source": [
    "def plot_number(image):\n",
    "    plt.figure(figsize=(5, 5))\n",
    "    plt.imshow(image.squeeze(), cmap=plt.get_cmap('gray'))\n",
    "    plt.axis('off')\n",
    "    plt.show()"
   ]
  },
  {
   "cell_type": "code",
   "execution_count": 9,
   "id": "1146c1e6-4bdc-4697-93b2-37163dfe2ba2",
   "metadata": {},
   "outputs": [
    {
     "name": "stdout",
     "output_type": "stream",
     "text": [
      "La imagen muestreada representa un: 8\n"
     ]
    },
    {
     "data": {
      "image/png": "[encoded data removed]",
      "text/plain": [
       "<Figure size 500x500 with 1 Axes>"
      ]
     },
     "metadata": {},
     "output_type": "display_data"
    }
   ],
   "source": [
    "rnd_idx = np.random.randint(len(y_test))\n",
    "print(f'La imagen muestreada representa un: {y_test[rnd_idx][0]}')\n",
    "plot_number(x_test_num[rnd_idx])"
   ]
  },
  {
   "cell_type": "markdown",
   "id": "e9ad50f8-9412-4a1c-8082-3cda411198e3",
   "metadata": {},
   "source": [
    "# Crear minibatches"
   ]
  },
  {
   "cell_type": "code",
   "execution_count": 10,
   "id": "9739d963-46d2-43bb-820a-bb6789250614",
   "metadata": {},
   "outputs": [],
   "source": [
    "def create_minibatches(x, y, mb_size, shuffle=True):\n",
    "    '''\n",
    "    x  # muestras, 784\n",
    "    y # muestras, 1\n",
    "    '''\n",
    "    assert x.shape[0] == y.shape[0], 'Error en cantidad de muestras'\n",
    "    total_data = x.shape[0]\n",
    "    if shuffle: \n",
    "        idxs = np.arange(total_data)\n",
    "        np.random.shuffle(idxs)\n",
    "        x = x[idxs]\n",
    "        y = y[idxs]\n",
    "        \n",
    "    return ((x[i:i+mb_size], y[i:i+mb_size]) for i in range(0, total_data, mb_size))"
   ]
  },
  {
   "cell_type": "markdown",
   "id": "2238bff9-c9dd-4570-8c02-d479ff84fb7e",
   "metadata": {},
   "source": [
    "# Convertir Numpy array a PyTorch tensor"
   ]
  },
  {
   "cell_type": "code",
   "execution_count": 11,
   "id": "e25f17ca-62a9-48f7-93ee-da657d2a96a3",
   "metadata": {},
   "outputs": [],
   "source": [
    "x_train_tensor = torch.tensor(x_train.copy())\n",
    "y_train_tensor = torch.tensor(y_train.copy())\n",
    "\n",
    "x_val_tensor = torch.tensor(x_val.copy())\n",
    "y_val_tensor = torch.tensor(y_val.copy())\n",
    "\n",
    "x_test_tensor = torch.tensor(x_test.copy())\n",
    "y_test_tensor = torch.tensor(y_test.copy())"
   ]
  },
  {
   "cell_type": "code",
   "execution_count": 12,
   "id": "f41ce621-98bd-461d-a969-77406350a5da",
   "metadata": {},
   "outputs": [
    {
     "name": "stdout",
     "output_type": "stream",
     "text": [
      "Estamos usando: cuda\n"
     ]
    }
   ],
   "source": [
    "if torch.cuda.is_available():\n",
    "    device = torch.device('cuda')\n",
    "else:\n",
    "    device = torch.device('cpu')\n",
    "print(f'Estamos usando: {device}')"
   ]
  },
  {
   "cell_type": "markdown",
   "id": "38cec140-cc28-404c-af07-e858dec95688",
   "metadata": {},
   "source": [
    "# Compute accuracy\n"
   ]
  },
  {
   "cell_type": "code",
   "execution_count": 13,
   "id": "b4bb9e7f-2632-435d-b37e-7524f2087a26",
   "metadata": {},
   "outputs": [],
   "source": [
    "def accuracy(model, x, y, mb_size):\n",
    "    num_correct = 0\n",
    "    num_total = 0\n",
    "    model.eval()\n",
    "    model = model.to(device=device)\n",
    "    with torch.no_grad():\n",
    "        for (xi, yi) in create_minibatches(x, y, mb_size):\n",
    "            xi = xi.to(device=device, dtype=torch.float32)\n",
    "            yi = yi.to(device=device, dtype=torch.long)\n",
    "            \n",
    "            scores = model(xi) # (mb_size, 10)\n",
    "            pred = scores.argmax(dim=1) # Return de max value and index, this vector return of shape (mb_size).\n",
    "            num_correct += (pred==yi.squeeze()).sum() # yi have dimention of (batch_size, 1) so squeeze change dimention to  (mb_size).\n",
    "            num_total += pred.size(0)\n",
    "        \n",
    "        return float(num_correct)/num_total\n",
    "            \n",
    "            \n",
    "            \n",
    "    \n",
    "\n",
    "\n"
   ]
  },
  {
   "cell_type": "code",
   "execution_count": 14,
   "id": "efbac352-81a7-4f22-86e8-1b50ca6f171e",
   "metadata": {},
   "outputs": [
    {
     "data": {
      "text/plain": [
       "torch.Size([50000, 784])"
      ]
     },
     "execution_count": 14,
     "metadata": {},
     "output_type": "execute_result"
    }
   ],
   "source": [
    "x_train_tensor.shape"
   ]
  },
  {
   "cell_type": "markdown",
   "id": "da7ebf86-d0ad-4f59-b460-d38ad7ae097d",
   "metadata": {},
   "source": [
    "# Loop de entrenamiento"
   ]
  },
  {
   "cell_type": "code",
   "execution_count": 19,
   "id": "a530760e-829c-4a8a-860f-14eeab55885f",
   "metadata": {},
   "outputs": [],
   "source": [
    "def train(model, optimiser, mb_size, epochs=100):\n",
    "    model = model.to(device=device)\n",
    "    for epoch in range(epochs):\n",
    "        for (xi, yi) in create_minibatches(x_train_tensor, y_train_tensor, mb_size):\n",
    "            model.train()\n",
    "            xi = xi.to(device=device, dtype=torch.float32)\n",
    "            yi = yi.to(device=device, dtype=torch.long)\n",
    "            \n",
    "            scores = model(xi)\n",
    "            \n",
    "       \n",
    "            # Funcion cost\n",
    "            cost = F.cross_entropy(\n",
    "                input=scores,\n",
    "                target=yi.squeeze(),\n",
    "                \n",
    "            )\n",
    "            optimizer.zero_grad()\n",
    "            \n",
    "            cost.backward()\n",
    "            optimizer.step()\n",
    "        \n",
    "        if epoch%20 == 0:\n",
    "            print(f'Epoch: {epoch+1}, cost: {cost.item()}, accuracy {accuracy(model, x_val_tensor, y_val_tensor, mb_size)}')\n",
    "        \n",
    "            \n",
    "    \n",
    "\n"
   ]
  },
  {
   "cell_type": "markdown",
   "id": "c68f3ee6-b65b-47db-9799-16476e515f3d",
   "metadata": {},
   "source": [
    "# Modelo usando Sequential"
   ]
  },
  {
   "cell_type": "code",
   "execution_count": 20,
   "id": "8e7b93ad-0b84-49bb-8b11-664412604514",
   "metadata": {},
   "outputs": [],
   "source": [
    "# Instanciar model\n",
    "hidden1 = 200\n",
    "hidden = 200\n",
    "out_features = 10\n",
    "lr = 1e-2\n",
    "epochs = 20\n",
    "mb_size = 32\n",
    "model1 = nn.Sequential(\n",
    "    nn.Linear(in_features=784, out_features=200),\n",
    "    nn.ReLU(),\n",
    "    nn.Linear(in_features=200, out_features=out_features)\n",
    "    \n",
    ")"
   ]
  },
  {
   "cell_type": "code",
   "execution_count": 21,
   "id": "819027e8-f927-41fc-a473-61fc27fd163a",
   "metadata": {},
   "outputs": [],
   "source": [
    "\n",
    "optimizer = torch.optim.SGD(model1.parameters(), lr=lr)"
   ]
  },
  {
   "cell_type": "code",
   "execution_count": 22,
   "id": "3c67e03b-be3d-4338-956a-d460ed1351ed",
   "metadata": {},
   "outputs": [
    {
     "name": "stdout",
     "output_type": "stream",
     "text": [
      "Epoch: 1, cost: 0.6280459761619568, accuracy 0.9208\n"
     ]
    }
   ],
   "source": [
    "\n",
    "train(model1, optimizer, mb_size, epochs)"
   ]
  },
  {
   "cell_type": "code",
   "execution_count": 23,
   "id": "e305a2e8-03a5-493b-a1e7-2d286ee77720",
   "metadata": {},
   "outputs": [
    {
     "data": {
      "text/plain": [
       "0.978"
      ]
     },
     "execution_count": 23,
     "metadata": {},
     "output_type": "execute_result"
    }
   ],
   "source": [
    "accuracy(model1, x_test_tensor,  y_test_tensor, mb_size)"
   ]
  },
  {
   "cell_type": "code",
   "execution_count": 35,
   "id": "d8602ae6-8dc7-49fe-8ec5-684e28246de3",
   "metadata": {},
   "outputs": [
    {
     "name": "stdout",
     "output_type": "stream",
     "text": [
      "La imagen muestreada representa un: 4\n",
      "Precition: 4\n"
     ]
    },
    {
     "data": {
      "image/png": "[encoded data removed]",
      "text/plain": [
       "<Figure size 500x500 with 1 Axes>"
      ]
     },
     "metadata": {},
     "output_type": "display_data"
    }
   ],
   "source": [
    "with torch.no_grad():\n",
    "    rnd_idx = np.random.randint(len(y_train))\n",
    "    print(f'La imagen muestreada representa un: {y_train[rnd_idx][0]}')\n",
    "    predict = model1(input=x_train_tensor[rnd_idx,:].float().to(device=device)).argmax()\n",
    "    print(f'Precition: {predict}')\n",
    "    plot_number(x_train_num[rnd_idx])\n",
    "    # predicted, actual = classes[pred[0].argmax(0)], classes[y]\n",
    "    # print(f'Predicted: \"{predicted}\", Actual: \"{actual}\"')"
   ]
  },
  {
   "cell_type": "code",
   "execution_count": 40,
   "id": "5961f702-4147-43f2-bd86-ec1583b4f958",
   "metadata": {},
   "outputs": [
    {
     "name": "stdout",
     "output_type": "stream",
     "text": [
      "Model 1\n",
      "Modelo con learning reate de: 0.5851913211122822\n",
      "Epoch: 1, cost: 0.7129595875740051, accuracy 0.8774\n",
      "La precisión final es de: 0.9518\n",
      "\n",
      "Model 2\n",
      "Modelo con learning reate de: 0.2820809076510682\n",
      "Epoch: 1, cost: 0.040236640721559525, accuracy 0.9579\n",
      "La precisión final es de: 0.9761\n",
      "\n",
      "Model 3\n",
      "Modelo con learning reate de: 0.17190684844108814\n",
      "Epoch: 1, cost: 0.030286692082881927, accuracy 0.9639\n",
      "La precisión final es de: 0.9829\n",
      "\n",
      "Model 4\n",
      "Modelo con learning reate de: 0.5144335179330216\n",
      "Epoch: 1, cost: 1.072703242301941, accuracy 0.8645\n",
      "La precisión final es de: 0.957\n",
      "\n",
      "Model 5\n",
      "Modelo con learning reate de: 0.0010307042821180736\n",
      "Epoch: 1, cost: 0.6068402528762817, accuracy 0.8616\n",
      "La precisión final es de: 0.9423\n",
      "\n",
      "Model 6\n",
      "Modelo con learning reate de: 0.0020023027844560323\n",
      "Epoch: 1, cost: 0.3588758111000061, accuracy 0.8908\n",
      "La precisión final es de: 0.9587\n",
      "\n",
      "Model 7\n",
      "Modelo con learning reate de: 0.0027139203334523776\n",
      "Epoch: 1, cost: 0.3384550213813782, accuracy 0.8992\n",
      "La precisión final es de: 0.9645\n",
      "\n",
      "Model 8\n",
      "Modelo con learning reate de: 0.05330472850599133\n",
      "Epoch: 1, cost: 0.05032940208911896, accuracy 0.9575\n",
      "La precisión final es de: 0.9821\n",
      "\n",
      "Model 9\n",
      "Modelo con learning reate de: 0.019287873538997184\n",
      "Epoch: 1, cost: 0.035897351801395416, accuracy 0.9388\n",
      "La precisión final es de: 0.9799\n",
      "\n",
      "Model 10\n",
      "Modelo con learning reate de: 0.003010013386961575\n",
      "Epoch: 1, cost: 0.49164754152297974, accuracy 0.8989\n",
      "La precisión final es de: 0.9661\n",
      "\n"
     ]
    }
   ],
   "source": [
    "# Instanciar model\n",
    "hidden1 = 200\n",
    "hidden = 200\n",
    "out_features = 10\n",
    "lr = 1e-2\n",
    "epochs = 20\n",
    "mb_size = 32\n",
    "models = {}\n",
    "# Buscar en el intervalo [0.001, 1]\n",
    "for i in range(10):\n",
    "    print(f\"Model {i+1}\")\n",
    "    j = -3*np.random.rand()\n",
    "    lr = 10**j\n",
    "    print(f\"Modelo con learning reate de: {lr}\")\n",
    "    model1 = nn.Sequential(\n",
    "        nn.Linear(in_features=784, out_features=200),\n",
    "        nn.ReLU(),\n",
    "        nn.Linear(in_features=200, out_features=out_features)\n",
    "\n",
    "    )\n",
    "    optimizer = torch.optim.SGD(model1.parameters(), lr=lr)\n",
    "    train(model1, optimizer, mb_size, epochs)\n",
    "    acc = accuracy(model1, x_val_tensor, y_val_tensor, mb_size)\n",
    "    print(f'La precisión final es de: {acc}')\n",
    "    print()\n",
    "    models[f\"{lr}\"] = acc"
   ]
  },
  {
   "cell_type": "code",
   "execution_count": 41,
   "id": "fe27bfb9-6625-4362-a1a3-f655916b7538",
   "metadata": {},
   "outputs": [
    {
     "name": "stdout",
     "output_type": "stream",
     "text": [
      "Learning rate de: 0.5851913211122822\n",
      "Precisión de: 0.9518\n",
      "Learning rate de: 0.2820809076510682\n",
      "Precisión de: 0.9761\n",
      "Learning rate de: 0.17190684844108814\n",
      "Precisión de: 0.9829\n",
      "Learning rate de: 0.5144335179330216\n",
      "Precisión de: 0.957\n",
      "Learning rate de: 0.0010307042821180736\n",
      "Precisión de: 0.9423\n",
      "Learning rate de: 0.0020023027844560323\n",
      "Precisión de: 0.9587\n",
      "Learning rate de: 0.0027139203334523776\n",
      "Precisión de: 0.9645\n",
      "Learning rate de: 0.05330472850599133\n",
      "Precisión de: 0.9821\n",
      "Learning rate de: 0.019287873538997184\n",
      "Precisión de: 0.9799\n",
      "Learning rate de: 0.003010013386961575\n",
      "Precisión de: 0.9661\n"
     ]
    }
   ],
   "source": [
    "for key, value in models.items():\n",
    "    print(f\"Learning rate de: {key}\\nPrecisión de: {value}\")"
   ]
  },
  {
   "cell_type": "code",
   "execution_count": 43,
   "id": "d6bd5551-cbd6-4088-8330-91086601ae83",
   "metadata": {},
   "outputs": [],
   "source": [
    "models_ord = sorted(models.items(), key=lambda x: x[1], reverse=True)"
   ]
  },
  {
   "cell_type": "code",
   "execution_count": 44,
   "id": "6dbfde61-ed06-4d95-91ee-1075c3c79d62",
   "metadata": {},
   "outputs": [
    {
     "data": {
      "text/plain": [
       "[('0.17190684844108814', 0.9829),\n",
       " ('0.05330472850599133', 0.9821),\n",
       " ('0.019287873538997184', 0.9799),\n",
       " ('0.2820809076510682', 0.9761),\n",
       " ('0.003010013386961575', 0.9661),\n",
       " ('0.0027139203334523776', 0.9645),\n",
       " ('0.0020023027844560323', 0.9587),\n",
       " ('0.5144335179330216', 0.957),\n",
       " ('0.5851913211122822', 0.9518),\n",
       " ('0.0010307042821180736', 0.9423)]"
      ]
     },
     "execution_count": 44,
     "metadata": {},
     "output_type": "execute_result"
    }
   ],
   "source": [
    "models_ord"
   ]
  },
  {
   "cell_type": "code",
   "execution_count": 48,
   "id": "8f781d35-041f-4a6e-9d3d-543c1d46a37a",
   "metadata": {},
   "outputs": [
    {
     "data": {
      "text/plain": [
       "(0.019, 0.17)"
      ]
     },
     "execution_count": 48,
     "metadata": {},
     "output_type": "execute_result"
    }
   ],
   "source": [
    "19/1000, 171/1000"
   ]
  },
  {
   "cell_type": "code",
   "execution_count": 62,
   "id": "721296fe-f57d-4f55-9c87-dcd2e457069c",
   "metadata": {},
   "outputs": [
    {
     "data": {
      "text/plain": [
       "0.024"
      ]
     },
     "execution_count": 62,
     "metadata": {},
     "output_type": "execute_result"
    }
   ],
   "source": [
    "random.randrange(19, 171) / 1000"
   ]
  },
  {
   "cell_type": "code",
   "execution_count": 50,
   "id": "6d2fa6eb-cb19-464f-9e80-67e5b448d167",
   "metadata": {},
   "outputs": [],
   "source": [
    "import random"
   ]
  },
  {
   "cell_type": "code",
   "execution_count": 63,
   "id": "abcf62e2-830b-444b-9486-645f7bf509dc",
   "metadata": {},
   "outputs": [
    {
     "name": "stdout",
     "output_type": "stream",
     "text": [
      "Model 1\n",
      "Modelo con learning reate de: 0.132\n",
      "Epoch: 1, cost: 0.07167399674654007, accuracy 0.9672\n",
      "La precisión final es de: 0.9825\n",
      "\n",
      "Model 2\n",
      "Modelo con learning reate de: 0.087\n",
      "Epoch: 1, cost: 0.35433849692344666, accuracy 0.9518\n",
      "La precisión final es de: 0.9833\n",
      "\n",
      "Model 3\n",
      "Modelo con learning reate de: 0.142\n",
      "Epoch: 1, cost: 0.013729695230722427, accuracy 0.9638\n",
      "La precisión final es de: 0.9837\n",
      "\n",
      "Model 4\n",
      "Modelo con learning reate de: 0.153\n",
      "Epoch: 1, cost: 0.20779722929000854, accuracy 0.9658\n",
      "La precisión final es de: 0.9845\n",
      "\n",
      "Model 5\n",
      "Modelo con learning reate de: 0.059\n",
      "Epoch: 1, cost: 0.06828097999095917, accuracy 0.966\n",
      "La precisión final es de: 0.9825\n",
      "\n",
      "Model 6\n",
      "Modelo con learning reate de: 0.064\n",
      "Epoch: 1, cost: 0.17789070308208466, accuracy 0.9623\n",
      "La precisión final es de: 0.9816\n",
      "\n",
      "Model 7\n",
      "Modelo con learning reate de: 0.07\n",
      "Epoch: 1, cost: 0.021566960960626602, accuracy 0.9635\n",
      "La precisión final es de: 0.9821\n",
      "\n",
      "Model 8\n",
      "Modelo con learning reate de: 0.165\n",
      "Epoch: 1, cost: 0.056498847901821136, accuracy 0.9678\n",
      "La precisión final es de: 0.9831\n",
      "\n",
      "Model 9\n",
      "Modelo con learning reate de: 0.047\n",
      "Epoch: 1, cost: 0.4280744194984436, accuracy 0.9597\n",
      "La precisión final es de: 0.9823\n",
      "\n",
      "Model 10\n",
      "Modelo con learning reate de: 0.081\n",
      "Epoch: 1, cost: 0.21553179621696472, accuracy 0.9591\n",
      "La precisión final es de: 0.9827\n",
      "\n"
     ]
    }
   ],
   "source": [
    "# Instanciar model\n",
    "hidden1 = 200\n",
    "hidden = 200\n",
    "out_features = 10\n",
    "lr = 1e-2\n",
    "epochs = 20\n",
    "mb_size = 32\n",
    "models = {}\n",
    "# Buscar en el intervalo [0.001, 1]\n",
    "for i in range(10):\n",
    "    print(f\"Model {i+1}\")\n",
    "    lr = random.randrange(19, 171) / 1000\n",
    "    print(f\"Modelo con learning reate de: {lr}\")\n",
    "    model1 = nn.Sequential(\n",
    "        nn.Linear(in_features=784, out_features=200),\n",
    "        nn.ReLU(),\n",
    "        nn.Linear(in_features=200, out_features=out_features)\n",
    "\n",
    "    )\n",
    "    optimizer = torch.optim.SGD(model1.parameters(), lr=lr)\n",
    "    train(model1, optimizer, mb_size, epochs)\n",
    "    acc = accuracy(model1, x_val_tensor, y_val_tensor, mb_size)\n",
    "    print(f'La precisión final es de: {acc}')\n",
    "    print()\n",
    "    models[f\"{lr}\"] = acc"
   ]
  },
  {
   "cell_type": "code",
   "execution_count": 64,
   "id": "580f8438-bb9f-41e1-949b-07b0a1d2e95a",
   "metadata": {},
   "outputs": [
    {
     "data": {
      "text/plain": [
       "[('0.153', 0.9845),\n",
       " ('0.142', 0.9837),\n",
       " ('0.087', 0.9833),\n",
       " ('0.165', 0.9831),\n",
       " ('0.081', 0.9827),\n",
       " ('0.132', 0.9825),\n",
       " ('0.059', 0.9825),\n",
       " ('0.047', 0.9823),\n",
       " ('0.07', 0.9821),\n",
       " ('0.064', 0.9816)]"
      ]
     },
     "execution_count": 64,
     "metadata": {},
     "output_type": "execute_result"
    }
   ],
   "source": [
    "models_ord = sorted(models.items(), key=lambda x: x[1], reverse=True)\n",
    "models_ord"
   ]
  },
  {
   "cell_type": "code",
   "execution_count": 66,
   "id": "167e71d5-681a-4f48-ba9e-bf786930b51c",
   "metadata": {},
   "outputs": [
    {
     "name": "stdout",
     "output_type": "stream",
     "text": [
      "Epoch: 1, cost: 0.15389928221702576, accuracy 0.9609\n",
      "Epoch: 21, cost: 0.00022917635214980692, accuracy 0.983\n",
      "Epoch: 41, cost: 1.9221748516429216e-05, accuracy 0.9829\n",
      "Epoch: 61, cost: 9.658708586357534e-05, accuracy 0.9826\n",
      "Epoch: 81, cost: 8.68597489898093e-05, accuracy 0.9828\n"
     ]
    }
   ],
   "source": [
    "# Instanciar model\n",
    "hidden1 = 200\n",
    "hidden = 200\n",
    "out_features = 10\n",
    "lr = 0.153\n",
    "epochs = 100\n",
    "mb_size = 32\n",
    "model1 = nn.Sequential(\n",
    "    nn.Linear(in_features=784, out_features=200),\n",
    "    nn.ReLU(),\n",
    "    nn.Linear(in_features=200, out_features=out_features)\n",
    "    \n",
    ")\n",
    "optimizer = torch.optim.SGD(model1.parameters(), lr=lr)\n",
    "train(model1, optimizer, mb_size, epochs)"
   ]
  },
  {
   "cell_type": "code",
   "execution_count": 67,
   "id": "c222418d-2bcb-4e2a-ad43-412c2c6f00af",
   "metadata": {},
   "outputs": [
    {
     "data": {
      "text/plain": [
       "0.982"
      ]
     },
     "execution_count": 67,
     "metadata": {},
     "output_type": "execute_result"
    }
   ],
   "source": [
    "accuracy(model1, x_test_tensor,  y_test_tensor, mb_size)"
   ]
  },
  {
   "cell_type": "code",
   "execution_count": 217,
   "id": "1cb0ce6f-b396-4797-be18-056bd73a6c72",
   "metadata": {},
   "outputs": [
    {
     "name": "stdout",
     "output_type": "stream",
     "text": [
      "La imagen muestreada representa un: 1\n",
      "Prediction: 1\n"
     ]
    },
    {
     "data": {
      "image/png": "[encoded data removed]",
      "text/plain": [
       "<Figure size 500x500 with 1 Axes>"
      ]
     },
     "metadata": {},
     "output_type": "display_data"
    }
   ],
   "source": [
    "with torch.no_grad():\n",
    "    rnd_idx = np.random.randint(len(y_train))\n",
    "    print(f'La imagen muestreada representa un: {y_train[rnd_idx][0]}')\n",
    "    predict = model1(input=x_train_tensor[rnd_idx,:].float().to(device=device)).argmax()\n",
    "    print(f'Prediction: {predict}')\n",
    "    plot_number(x_train_num[rnd_idx])\n",
    "    # predicted, actual = classes[pred[0].argmax(0)], classes[y]\n",
    "    # print(f'Predicted: \"{predicted}\", Actual: \"{actual}\"')"
   ]
  },
  {
   "cell_type": "markdown",
   "id": "a9100782-5c79-413c-8d09-22bc9da2e7f3",
   "metadata": {},
   "source": [
    "# Saving model"
   ]
  },
  {
   "cell_type": "code",
   "execution_count": 218,
   "id": "8c9aeeec-63d9-4d21-a428-63d76f7e4d42",
   "metadata": {},
   "outputs": [],
   "source": [
    "model_path = './saved_models/modelMNIST.pth'\n",
    "torch.save(model1.state_dict(), model_path)\n"
   ]
  },
  {
   "cell_type": "code",
   "execution_count": 219,
   "id": "1344a5bc-d1c1-4c7d-8573-aa6464a9fcb6",
   "metadata": {},
   "outputs": [
    {
     "data": {
      "text/plain": [
       "OrderedDict([('0.weight',\n",
       "              tensor([[-0.0123, -0.0196,  0.0035,  ...,  0.0138,  0.0227,  0.0095],\n",
       "                      [ 0.0068, -0.0063,  0.0012,  ..., -0.0265,  0.0116,  0.0096],\n",
       "                      [ 0.0293, -0.0201,  0.0021,  ...,  0.0389,  0.0089, -0.0282],\n",
       "                      ...,\n",
       "                      [ 0.0126,  0.0297, -0.0237,  ..., -0.0178, -0.0205, -0.0303],\n",
       "                      [-0.0061, -0.0250, -0.0261,  ...,  0.0097, -0.0226,  0.0162],\n",
       "                      [-0.0152,  0.0317,  0.0095,  ..., -0.0095, -0.0223,  0.0407]],\n",
       "                     device='cuda:0')),\n",
       "             ('0.bias',\n",
       "              tensor([-0.0296,  0.0161, -0.0332, -0.0508,  0.0275,  0.0160,  0.0468,  0.0033,\n",
       "                       0.0094, -0.0602, -0.0249, -0.0454, -0.0092, -0.0372,  0.0132,  0.0227,\n",
       "                      -0.0428, -0.0018,  0.0114,  0.0223, -0.0786,  0.0338, -0.0243,  0.0033,\n",
       "                       0.0162,  0.0191, -0.0020, -0.0208, -0.0126, -0.0092, -0.0128, -0.0179,\n",
       "                       0.0145, -0.0206, -0.0337,  0.0125,  0.0628, -0.0215,  0.0023, -0.0066,\n",
       "                      -0.0210,  0.0184, -0.0249, -0.0487,  0.0226, -0.0146, -0.0088,  0.0009,\n",
       "                      -0.0530, -0.0321, -0.0630, -0.0436,  0.0269, -0.0341, -0.0181, -0.0334,\n",
       "                      -0.0302, -0.0132,  0.0255, -0.0339, -0.0190, -0.0217, -0.0522, -0.0210,\n",
       "                      -0.0428, -0.0553,  0.0409, -0.0412, -0.0288, -0.0022,  0.0205, -0.0325,\n",
       "                      -0.0233, -0.0347, -0.0202, -0.0061,  0.0044,  0.0118, -0.0450, -0.0423,\n",
       "                      -0.0566,  0.0075, -0.0405, -0.0344, -0.0378, -0.0325, -0.0219, -0.0486,\n",
       "                      -0.0304,  0.0063,  0.0066, -0.0175, -0.0197,  0.0253,  0.0118, -0.0405,\n",
       "                      -0.0277,  0.0169,  0.0122, -0.0332, -0.0385, -0.0225, -0.0684,  0.0066,\n",
       "                       0.0222, -0.0059, -0.0344, -0.0164, -0.0092, -0.0309,  0.0045,  0.0004,\n",
       "                       0.0003,  0.0307,  0.0309, -0.0549,  0.0198, -0.0096, -0.0020, -0.0228,\n",
       "                      -0.0188, -0.0334, -0.0392, -0.0308, -0.0090, -0.0539, -0.0058,  0.0244,\n",
       "                      -0.0268, -0.0036, -0.0144, -0.0278, -0.0576, -0.0437, -0.0225, -0.0149,\n",
       "                       0.0004, -0.0042, -0.0221, -0.0188,  0.0180,  0.0002, -0.0181,  0.0075,\n",
       "                       0.0493, -0.0392, -0.0159, -0.0253,  0.0023, -0.0118, -0.0344, -0.0424,\n",
       "                      -0.0023, -0.0037, -0.0120,  0.0270, -0.0016, -0.0375,  0.0169,  0.0357,\n",
       "                       0.0102, -0.0073, -0.0729, -0.0340, -0.0216, -0.0266, -0.0586,  0.0103,\n",
       "                      -0.0266, -0.0428, -0.0170,  0.0196, -0.0455, -0.0051,  0.0156,  0.0356,\n",
       "                       0.0248, -0.0241, -0.0329, -0.0309,  0.0078, -0.0241, -0.0100, -0.0262,\n",
       "                       0.0017, -0.0272, -0.0854, -0.0303,  0.0340,  0.0274, -0.0194,  0.0071,\n",
       "                      -0.0149, -0.0280, -0.0068, -0.0230,  0.0009,  0.0022, -0.0258, -0.0422],\n",
       "                     device='cuda:0')),\n",
       "             ('2.weight',\n",
       "              tensor([[ 0.2324, -0.2658, -0.0977,  ..., -0.0920, -0.2962,  0.1962],\n",
       "                      [-0.0558, -0.1373, -0.4119,  ...,  0.0135, -0.1230,  0.1562],\n",
       "                      [-0.2026, -0.2215, -0.0321,  ...,  0.1896, -0.0067,  0.3496],\n",
       "                      ...,\n",
       "                      [ 0.3798,  0.1725,  0.3032,  ...,  0.1755,  0.1209, -0.2211],\n",
       "                      [-0.1229,  0.1643,  0.2791,  ..., -0.2014,  0.4368,  0.1160],\n",
       "                      [-0.2737, -0.3475,  0.1744,  ...,  0.3130,  0.1771,  0.1694]],\n",
       "                     device='cuda:0')),\n",
       "             ('2.bias',\n",
       "              tensor([ 0.0183, -0.1660, -0.1929,  0.0307, -0.0395, -0.1551, -0.0228, -0.2767,\n",
       "                       0.8132,  0.0785], device='cuda:0'))])"
      ]
     },
     "execution_count": 219,
     "metadata": {},
     "output_type": "execute_result"
    }
   ],
   "source": [
    "model1.state_dict()"
   ]
  }
 ],
 "metadata": {
  "kernelspec": {
   "display_name": "Python 3 (ipykernel)",
   "language": "python",
   "name": "python3"
  },
  "language_info": {
   "codemirror_mode": {
    "name": "ipython",
    "version": 3
   },
   "file_extension": ".py",
   "mimetype": "text/x-python",
   "name": "python",
   "nbconvert_exporter": "python",
   "pygments_lexer": "ipython3",
   "version": "3.10.6"
  }
 },
 "nbformat": 4,
 "nbformat_minor": 5
}
